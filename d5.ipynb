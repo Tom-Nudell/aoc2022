{
 "cells": [
  {
   "cell_type": "code",
   "execution_count": 1,
   "metadata": {},
   "outputs": [
    {
     "name": "stderr",
     "output_type": "stream",
     "text": [
      "\u001b[32m\u001b[1m Activating\u001b[22m\u001b[39m environment at `~/Git/advent/2022/CentJulEnv/Project.toml`\n"
     ]
    },
    {
     "name": "stderr",
     "output_type": "stream",
     "text": [
      "\u001b[32m\u001b[1m   Updating\u001b[22m\u001b[39m "
     ]
    },
    {
     "name": "stderr",
     "output_type": "stream",
     "text": [
      "registry at `~/.julia/registries/General`\n"
     ]
    },
    {
     "name": "stdout",
     "output_type": "stream",
     "text": [
      "\u001b[?25l    "
     ]
    },
    {
     "name": "stderr",
     "output_type": "stream",
     "text": [
      "\u001b[32m\u001b[1m   Updating\u001b[22m\u001b[39m git-repo `https://github.com/JuliaRegistries/General.git`\n"
     ]
    },
    {
     "name": "stdout",
     "output_type": "stream",
     "text": [
      "\u001b[36m\u001b[1mFetching:\u001b[22m\u001b[39m [>                                        ]  0.0 %\r\u001b[2K\u001b[?25h"
     ]
    },
    {
     "name": "stderr",
     "output_type": "stream",
     "text": [
      "\u001b[32m\u001b[1m  Resolving\u001b[22m\u001b[39m package versions...\n"
     ]
    },
    {
     "name": "stderr",
     "output_type": "stream",
     "text": [
      "\u001b[32m\u001b[1mNo Changes\u001b[22m\u001b[39m to `~/Git/advent/2022/CentJulEnv/Project.toml`\n",
      "\u001b[32m\u001b[1mNo Changes\u001b[22m\u001b[39m to `~/Git/advent/2022/CentJulEnv/Manifest.toml`\n"
     ]
    },
    {
     "name": "stderr",
     "output_type": "stream",
     "text": [
      "\u001b[32m\u001b[1m  Resolving\u001b[22m\u001b[39m package versions...\n"
     ]
    },
    {
     "name": "stderr",
     "output_type": "stream",
     "text": [
      "\u001b[32m\u001b[1mNo Changes\u001b[22m\u001b[39m to `~/Git/advent/2022/CentJulEnv/Project.toml`\n",
      "\u001b[32m\u001b[1mNo Changes\u001b[22m\u001b[39m to `~/Git/advent/2022/CentJulEnv/Manifest.toml`\n",
      "\u001b[32m\u001b[1m  Resolving\u001b[22m\u001b[39m package versions...\n"
     ]
    },
    {
     "name": "stderr",
     "output_type": "stream",
     "text": [
      "\u001b[32m\u001b[1mNo Changes\u001b[22m\u001b[39m to `~/Git/advent/2022/CentJulEnv/Project.toml`\n",
      "\u001b[32m\u001b[1mNo Changes\u001b[22m\u001b[39m to `~/Git/advent/2022/CentJulEnv/Manifest.toml`\n"
     ]
    }
   ],
   "source": [
    "include(\"env.jl\")"
   ]
  },
  {
   "cell_type": "code",
   "execution_count": 27,
   "metadata": {},
   "outputs": [
    {
     "data": {
      "text/plain": [
       "get_input (generic function with 2 methods)"
      ]
     },
     "metadata": {},
     "output_type": "display_data"
    }
   ],
   "source": [
    "# read the assignment list\n",
    "function get_input(input, k=false)\n",
    "    # \n",
    "\n",
    "    f = open(input)\n",
    "    l = readlines(f,keep=k)\n",
    "    close(f)\n",
    "\n",
    "    line = findall(l.==\"\")[1]      # finall() returns a 1x1 array, we need the value of this array\n",
    "\n",
    "    # drawing is the top lines until just before the empty line\n",
    "    drawing = l[1:line-1] \n",
    "\n",
    "    # instructions are after empty line to the end\n",
    "    instructions = l[line+1:end]\n",
    "\n",
    "    return drawing, instructions\n",
    "end\n",
    "\n"
   ]
  },
  {
   "cell_type": "code",
   "execution_count": 28,
   "metadata": {},
   "outputs": [
    {
     "data": {
      "text/plain": [
       "([\"    [D]    \", \"[N] [C]    \", \"[Z] [M] [P]\", \" 1   2   3 \"], [\"move 1 from 2 to 1\", \"move 3 from 1 to 3\", \"move 2 from 2 to 1\", \"move 1 from 1 to 2\"])"
      ]
     },
     "metadata": {},
     "output_type": "display_data"
    }
   ],
   "source": [
    "drawing, instructions = get_input(\"d5_test.txt\")"
   ]
  },
  {
   "cell_type": "code",
   "execution_count": 29,
   "metadata": {},
   "outputs": [
    {
     "data": {
      "text/plain": [
       "4-element Array{String,1}:\n",
       " \"move 1 from 2 to 1\"\n",
       " \"move 3 from 1 to 3\"\n",
       " \"move 2 from 2 to 1\"\n",
       " \"move 1 from 1 to 2\""
      ]
     },
     "metadata": {},
     "output_type": "display_data"
    }
   ],
   "source": [
    "instructions"
   ]
  },
  {
   "cell_type": "code",
   "execution_count": 214,
   "metadata": {},
   "outputs": [
    {
     "data": {
      "text/plain": [
       "draw_dicts (generic function with 1 method)"
      ]
     },
     "metadata": {},
     "output_type": "display_data"
    }
   ],
   "source": [
    "# map the drawing to a dictionary that we can manipulate\n",
    "# assign each stack the correct crates\n",
    "# bottom crate should be first thing in the list\n",
    "\n",
    "function draw_dicts(drawing)\n",
    "    # drawing has the pattern [A] [B] [C]\n",
    "    \n",
    "    # each item in the stack takes three chars or spaces, with one space inbetween stacks\n",
    "    # pattern [A] [B]\n",
    "\n",
    "    # get the number of stacks and stack names\n",
    "    stacks = split(drawing[end,])\n",
    "\n",
    "    # initialize the dictionary\n",
    "    stack_dict = Dict()\n",
    "    initial_height = length(drawing)-1\n",
    "    initial_position = 2\n",
    "\n",
    "    for s in stacks\n",
    "    \n",
    "        # initialize each stack dictionary\n",
    "        stack_dict[s] = Char[]\n",
    "        position = initial_position + 4*(parse(Int,s) - 1)\n",
    "\n",
    "        for row = 1:initial_height\n",
    "            \n",
    "            if !isspace(drawing[row][position]) #throw out the blank spaces\n",
    "                push!(stack_dict[s],drawing[row][position])\n",
    "            end\n",
    "        end\n",
    "\n",
    "        # reverse the order after reading the drawing\n",
    "        stack_dict[s] = reverse(stack_dict[s])\n",
    "    end\n",
    "    return stack_dict\n",
    "end \n"
   ]
  },
  {
   "cell_type": "code",
   "execution_count": 192,
   "metadata": {},
   "outputs": [
    {
     "data": {
      "text/plain": [
       "rearrange (generic function with 1 method)"
      ]
     },
     "metadata": {},
     "output_type": "display_data"
    }
   ],
   "source": [
    "\n",
    "function rearrange(dict_drawing, instructions)\n",
    "# move items around according to instructions\n",
    "# instructions are the form \"move X from Y to Z\"\n",
    "# X = number of times to repeat the operation (Int)\n",
    "# Y = starting stack key \n",
    "# Z = ending stack key\n",
    "\n",
    "    for line in instructions\n",
    "\n",
    "        split_line = split(line)\n",
    "        repeats = parse(Int,split_line[2])\n",
    "        from_stack = split_line[4]\n",
    "        to_stack = split_line[6]\n",
    "\n",
    "        for r in 1:repeats\n",
    "            temp = pop!(dict_drawing[from_stack])\n",
    "            push!(dict_drawing[to_stack], temp)\n",
    "        end\n",
    "        \n",
    "    end\n",
    "    return dict_drawing\n",
    "end"
   ]
  },
  {
   "cell_type": "code",
   "execution_count": 246,
   "metadata": {},
   "outputs": [
    {
     "data": {
      "text/plain": [
       "print_final_msg (generic function with 1 method)"
      ]
     },
     "metadata": {},
     "output_type": "display_data"
    }
   ],
   "source": [
    "function print_final_msg(final_dict)\n",
    "    # print the last \"top\" value from each stack\n",
    "    # notet that looping through the dict with a (key,value) in dict won't always give you the right order, instead force the order with \"iterate\"\n",
    "    \n",
    "    msg = String[]\n",
    "    \n",
    "    for iterate in 1:length(final_dict)\n",
    "        value = final_dict[string(iterate)]    \n",
    "        print(value[end])\n",
    "        #msg *= value[end]\n",
    "    \n",
    "    end\n",
    "    # print(msg)\n",
    "    # return msg \n",
    "end"
   ]
  },
  {
   "cell_type": "code",
   "execution_count": 236,
   "metadata": {},
   "outputs": [
    {
     "data": {
      "text/plain": [
       "1-element Array{Char,1}:\n",
       " 'C': ASCII/Unicode U+0043 (category Lu: Letter, uppercase)"
      ]
     },
     "metadata": {},
     "output_type": "display_data"
    }
   ],
   "source": [
    "final_dict[string(1)]"
   ]
  },
  {
   "cell_type": "code",
   "execution_count": 249,
   "metadata": {},
   "outputs": [
    {
     "name": "stdout",
     "output_type": "stream",
     "text": [
      "CMZ"
     ]
    }
   ],
   "source": [
    "# run a test\n",
    "# answer should be CMZ\n",
    "\n",
    "drawing, instructions = get_input(\"d5_test.txt\");\n",
    "test_dict =  draw_dicts(drawing);\n",
    "final_dict = rearrange(test_dict, instructions);\n",
    "print_final_msg(final_dict);"
   ]
  },
  {
   "cell_type": "code",
   "execution_count": 250,
   "metadata": {},
   "outputs": [
    {
     "name": "stdout",
     "output_type": "stream",
     "text": [
      "CMZXY"
     ]
    }
   ],
   "source": [
    "# run another test\n",
    "# answer should be CMZXY\n",
    "\n",
    "drawing, instructions = get_input(\"d5_test2.txt\");\n",
    "test_dict =  draw_dicts(drawing);\n",
    "final_dict = rearrange(test_dict, instructions);\n",
    "print_final_msg(final_dict);"
   ]
  },
  {
   "cell_type": "code",
   "execution_count": 252,
   "metadata": {},
   "outputs": [
    {
     "name": "stdout",
     "output_type": "stream",
     "text": [
      "FCVRLMVQP"
     ]
    },
    {
     "data": {
      "text/plain": [
       "String[]"
      ]
     },
     "metadata": {},
     "output_type": "display_data"
    }
   ],
   "source": [
    "# solve day 5 problem 1\n",
    "\n",
    "drawing, instructions = get_input(\"day-5-input.txt\")\n",
    "final_dict = rearrange(draw_dicts(drawing), instructions)\n",
    "print_final_msg(final_dict)"
   ]
  },
  {
   "cell_type": "markdown",
   "metadata": {},
   "source": [
    "## Part 2 - move multiple crates at once \n",
    "\n",
    "Don't rearrange the order when moving, i.e. get more clever with push/pop, or use some cut/append strategy\n",
    "\n"
   ]
  },
  {
   "cell_type": "markdown",
   "metadata": {},
   "source": []
  },
  {
   "cell_type": "code",
   "execution_count": 325,
   "metadata": {},
   "outputs": [
    {
     "data": {
      "text/plain": [
       "rearrange2 (generic function with 2 methods)"
      ]
     },
     "metadata": {},
     "output_type": "display_data"
    }
   ],
   "source": [
    "# write a function that will split the stacks and reorder them if it's a model 9000\n",
    "# the new rearrange function will work for either model of crate mover\n",
    "\n",
    "function read_instructions(line)\n",
    "    # instructions are the form \"move n from from_stack to to_stack\"\n",
    "       # return instructions\n",
    "       # n = number of crates to move all at once, INT\n",
    "       # from_stack = starting stack key, string \n",
    "       # to_stack = ending stack key, string\n",
    "       \n",
    "       split_line = split(line)\n",
    "       n = parse(Int, split_line[2])    \n",
    "       from_stack = split_line[4]\n",
    "       to_stack = split_line[6]\n",
    "   \n",
    "       return n, from_stack, to_stack\n",
    "   end\n",
    "   \n",
    "   function split_stack(from_stack_crates, n, model=9001)\n",
    "       # input the from_stack and number of crates to move\n",
    "       # output new from_stack and the crates to move \n",
    "       # reverse the order if the model is 9000\n",
    "       \n",
    "       crates = from_stack_crates[end-n+1:1:end]\n",
    "       # crates = from_stack_crates[end:-1:end-n+1] # this is reverse order from expected\n",
    "   \n",
    "       if model == 9000\n",
    "           crates = crates[end:-1:1] #reverse the order\n",
    "       end\n",
    "   \n",
    "       from_stack_crates = from_stack_crates[1:end-n]\n",
    "       \n",
    "       return from_stack_crates, crates\n",
    "   end\n",
    "\n",
    "\n",
    "function rearrange2(dict_drawing, instructions, model=9001)\n",
    "    # move items around according to instructions\n",
    "    # follow pattern from Part2: don't push/pop, split and append (so the order remains the same instead of reversing)\n",
    "    # if model == 9000 (old model), reverse the crate order to match part1\n",
    "    \n",
    "    # instructions are the form \"move X from Y to Z\"\n",
    "    # X = number of crates to move all at once\n",
    "    # Y = starting stack key \n",
    "    # Z = ending stack key\n",
    "    \n",
    "        for line in instructions\n",
    "            \n",
    "            # read instructions for each line\n",
    "            n, from_stack, to_stack = read_instructions(line)\n",
    "    \n",
    "            # split the from stack and append to the to_stack \n",
    "            dict_drawing[from_stack], crates = split_stack(dict_drawing[from_stack], n, model)\n",
    "            dict_drawing[to_stack] = [dict_drawing[to_stack]; crates]                           # double check if this is working...\n",
    "            \n",
    "        end\n",
    "        return dict_drawing\n",
    "    end"
   ]
  },
  {
   "cell_type": "code",
   "execution_count": 321,
   "metadata": {},
   "outputs": [
    {
     "name": "stdout",
     "output_type": "stream",
     "text": [
      "move 2 from 2 to 1\n",
      "221\n",
      "['M', 'C', 'D']\n"
     ]
    },
    {
     "name": "stdout",
     "output_type": "stream",
     "text": [
      "['M']\n"
     ]
    }
   ],
   "source": [
    "# try some things\n",
    "\n",
    "\n",
    "drawing, instructions = get_input(\"d5_test.txt\");\n",
    "test_dict =  draw_dicts(drawing);\n",
    "test_in = instructions[3]; print(test_in,\"\\n\")\n",
    "n, f, t = read_instructions(test_in)\n",
    "print(n,f,t,\"\\n\")\n",
    "test_stack_crates = test_dict[f]; print(test_stack_crates, \"\\n\")\n",
    "test_stack_crates, crates = split_stack(test_stack_crates, n); print(test_stack_crates, \"\\n\")\n",
    "\n",
    "#final_dict = rearrange2(test_dict, instructions);\n",
    "#print_final_msg(final_dict);"
   ]
  },
  {
   "cell_type": "code",
   "execution_count": 326,
   "metadata": {},
   "outputs": [
    {
     "name": "stdout",
     "output_type": "stream",
     "text": [
      "MCD"
     ]
    }
   ],
   "source": [
    "# try some more things\n",
    "# Answer should be MCD\n",
    "\n",
    "drawing, instructions = get_input(\"d5_test.txt\");\n",
    "test_dict =  draw_dicts(drawing);\n",
    "final_dict = rearrange2(test_dict, instructions);\n",
    "print_final_msg(final_dict);"
   ]
  },
  {
   "cell_type": "code",
   "execution_count": 332,
   "metadata": {},
   "outputs": [
    {
     "name": "stdout",
     "output_type": "stream",
     "text": [
      "MCDXY"
     ]
    }
   ],
   "source": [
    "# try some more things\n",
    "# MCDXY\n",
    "\n",
    "drawing, instructions = get_input(\"d5_test2.txt\");\n",
    "test_dict =  draw_dicts(drawing);\n",
    "final_dict = rearrange2(test_dict, instructions);\n",
    "print_final_msg(final_dict);"
   ]
  },
  {
   "cell_type": "code",
   "execution_count": 331,
   "metadata": {},
   "outputs": [
    {
     "name": "stdout",
     "output_type": "stream",
     "text": [
      "SMJPBZPVF"
     ]
    }
   ],
   "source": [
    "# try some more things\n",
    "# SMJPBZPVF\n",
    "\n",
    "drawing, instructions = get_input(\"d5_test3.txt\");\n",
    "test_dict =  draw_dicts(drawing);\n",
    "final_dict = rearrange2(test_dict, instructions);\n",
    "print_final_msg(final_dict);"
   ]
  },
  {
   "cell_type": "code",
   "execution_count": 333,
   "metadata": {},
   "outputs": [
    {
     "name": "stdout",
     "output_type": "stream",
     "text": [
      "RWLWGJGFD"
     ]
    },
    {
     "data": {
      "text/plain": [
       "String[]"
      ]
     },
     "metadata": {},
     "output_type": "display_data"
    }
   ],
   "source": [
    "# solve day 5 problem 1\n",
    "\n",
    "drawing, instructions = get_input(\"day-5-input.txt\")\n",
    "final_dict = rearrange2(draw_dicts(drawing), instructions)\n",
    "print_final_msg(final_dict)"
   ]
  }
 ],
 "metadata": {
  "kernelspec": {
   "display_name": "Julia 1.5.3",
   "language": "julia",
   "name": "julia-1.5"
  },
  "language_info": {
   "file_extension": ".jl",
   "mimetype": "application/julia",
   "name": "julia",
   "version": "1.5.3"
  },
  "orig_nbformat": 4
 },
 "nbformat": 4,
 "nbformat_minor": 2
}
