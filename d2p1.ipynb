{
 "cells": [
  {
   "cell_type": "code",
   "execution_count": null,
   "metadata": {},
   "outputs": [],
   "source": [
    "include(\"env.jl\")"
   ]
  },
  {
   "cell_type": "code",
   "execution_count": null,
   "metadata": {},
   "outputs": [],
   "source": [
    "# get day 2 data\n",
    "# curl?\n",
    "# http\n",
    "# Pkg.add(\"HTTP\")\n",
    "# using HTTP\n",
    "# HTTP.get(\"https://adventofcode.com/2022/day/2/input\")"
   ]
  },
  {
   "cell_type": "markdown",
   "metadata": {},
   "source": [
    "Appreciative of your help yesterday, one Elf gives you an encrypted strategy guide (your puzzle input) that they say will be sure to help you win. \"The first column is what your opponent is going to play: A for Rock, B for Paper, and C for Scissors. The second column--\" Suddenly, the Elf is called away to help with someone's tent.\n",
    "\n",
    "The second column, you reason, must be what you should play in response: X for Rock, Y for Paper, and Z for Scissors. Winning every time would be suspicious, so the responses must have been carefully chosen.\n",
    "\n",
    "The winner of the whole tournament is the player with the highest score. Your total score is the sum of your scores for each round. The score for a single round is the score for the shape you selected (1 for Rock, 2 for Paper, and 3 for Scissors) plus the score for the outcome of the round (0 if you lost, 3 if the round was a draw, and 6 if you won)."
   ]
  },
  {
   "cell_type": "code",
   "execution_count": 2,
   "metadata": {},
   "outputs": [
    {
     "data": {
      "text/plain": [
       "get_guide (generic function with 2 methods)"
      ]
     },
     "execution_count": 2,
     "metadata": {},
     "output_type": "execute_result"
    }
   ],
   "source": [
    "# read the strat guide \n",
    "function get_guide(guide, k=true)\n",
    "    # food_list is a txt input file with calaories counts for each elf\n",
    "    f = open(guide)\n",
    "    l = readlines(f,keep=k)\n",
    "    close(f)\n",
    "    return l\n",
    "end"
   ]
  },
  {
   "cell_type": "code",
   "execution_count": 4,
   "metadata": {},
   "outputs": [
    {
     "data": {
      "text/plain": [
       "9-element Array{String,1}:\n",
       " \"A X\"\n",
       " \"B X\"\n",
       " \"C X\"\n",
       " \"A Y\"\n",
       " \"B Y\"\n",
       " \"C Y\"\n",
       " \"A Z\"\n",
       " \"B Z\"\n",
       " \"C Z\""
      ]
     },
     "execution_count": 4,
     "metadata": {},
     "output_type": "execute_result"
    }
   ],
   "source": [
    "# score card\n",
    "# Code/key \n",
    "# A = rock, B = paper, C = scissors\n",
    "# X = rock, Y = paper, Z = scissors\n",
    "\n",
    "# RPS scoring: them, you\n",
    "# rock, rock = 3; rock, paper = 6; rock, scissors = 0\n",
    "# paper, rock = 0; paper, paper = 3; paper, scissors = 6\n",
    "# scissors, rock = 6; scissors, paper = 0; scissors, scissors = 3\n",
    "rps_code = [\"A X\" \"A Y\" \"A Z\"; \"B X\" \"B Y\" \"B Z\"; \"C X\" \"C Y\" \"C Z\" ]\n",
    "rps_key = [3 6 0; 0 3 6; 6 0 3]\n",
    "\n",
    "# Code scoring\n",
    "# X = 1; Y = 2; Z = 3\n",
    "code_key = [1 2 3]\n",
    "\n",
    "# Example\n",
    "# \"A Y\" = 6 + 2 = 8\n",
    "final_key = vec(rps_key .+ code_key)\n",
    "rps_code_vec = vec(rps_code)\n",
    "\n"
   ]
  },
  {
   "cell_type": "code",
   "execution_count": 5,
   "metadata": {},
   "outputs": [
    {
     "data": {
      "text/plain": [
       "count_games (generic function with 1 method)"
      ]
     },
     "execution_count": 5,
     "metadata": {},
     "output_type": "execute_result"
    }
   ],
   "source": [
    "\n",
    "function count_games(guide, rps_code_vec)\n",
    "    # each game has a unique position in the decoder\n",
    "    # sum up each game from the input \n",
    "    \n",
    "    games = zeros(size(rps_code_vec))\n",
    "    for g in guide\n",
    "        games += g .== rps_code_vec\n",
    "    end\n",
    "    return games\n",
    "end\n"
   ]
  },
  {
   "cell_type": "code",
   "execution_count": 6,
   "metadata": {},
   "outputs": [
    {
     "data": {
      "text/plain": [
       "score_rps (generic function with 1 method)"
      ]
     },
     "execution_count": 6,
     "metadata": {},
     "output_type": "execute_result"
    }
   ],
   "source": [
    "# each rps has a unique score \n",
    "function score_rps(games, final_key)\n",
    "    # input the count of each game played and the key that assigns a score to each game \n",
    "    \n",
    "    scores = games .* final_key\n",
    "    final_score = sum(scores)\n",
    "\n",
    "    return final_score\n",
    "end"
   ]
  },
  {
   "cell_type": "code",
   "execution_count": 7,
   "metadata": {},
   "outputs": [
    {
     "data": {
      "text/plain": [
       "15.0"
      ]
     },
     "execution_count": 7,
     "metadata": {},
     "output_type": "execute_result"
    }
   ],
   "source": [
    "# test functions with example inputs\n",
    "# answer = 15\n",
    "\n",
    "gt = get_guide(\"d2p1_test.txt\",false)\n",
    "games_test = count_games(gt, rps_code_vec)\n",
    "fs_test = score_rps(games_test, final_key) "
   ]
  },
  {
   "cell_type": "code",
   "execution_count": 11,
   "metadata": {},
   "outputs": [
    {
     "data": {
      "text/plain": [
       "13052.0"
      ]
     },
     "execution_count": 11,
     "metadata": {},
     "output_type": "execute_result"
    }
   ],
   "source": [
    "# solve puzzle 1 for day 2\n",
    "score_rps(count_games(get_guide(\"day-2-input.txt\",false), rps_code_vec), final_key)"
   ]
  },
  {
   "cell_type": "code",
   "execution_count": 10,
   "metadata": {},
   "outputs": [
    {
     "data": {
      "text/plain": [
       "2500-element Array{String,1}:\n",
       " \"B Y\\n\"\n",
       " \"A Y\\n\"\n",
       " \"B Z\\n\"\n",
       " \"A Z\\n\"\n",
       " \"A Y\\n\"\n",
       " \"B Z\\n\"\n",
       " \"C X\\n\"\n",
       " \"C X\\n\"\n",
       " \"C X\\n\"\n",
       " \"C Y\\n\"\n",
       " \"C Z\\n\"\n",
       " \"B Y\\n\"\n",
       " \"C Y\\n\"\n",
       " ⋮\n",
       " \"A Z\\n\"\n",
       " \"A Y\\n\"\n",
       " \"C X\\n\"\n",
       " \"A X\\n\"\n",
       " \"B X\\n\"\n",
       " \"C X\\n\"\n",
       " \"C Z\\n\"\n",
       " \"C X\\n\"\n",
       " \"A Y\\n\"\n",
       " \"A Z\\n\"\n",
       " \"B Y\\n\"\n",
       " \"A Y\\n\""
      ]
     },
     "execution_count": 10,
     "metadata": {},
     "output_type": "execute_result"
    }
   ],
   "source": [
    "guide = get_guide(\"day-2-input.txt\")"
   ]
  },
  {
   "cell_type": "code",
   "execution_count": null,
   "metadata": {},
   "outputs": [],
   "source": []
  }
 ],
 "metadata": {
  "kernelspec": {
   "display_name": "Julia 1.5.3",
   "language": "julia",
   "name": "julia-1.5"
  },
  "language_info": {
   "file_extension": ".jl",
   "mimetype": "application/julia",
   "name": "julia",
   "version": "1.5.3"
  },
  "orig_nbformat": 4
 },
 "nbformat": 4,
 "nbformat_minor": 2
}
