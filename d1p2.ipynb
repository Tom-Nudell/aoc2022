{
 "cells": [
  {
   "cell_type": "code",
   "execution_count": 56,
   "metadata": {},
   "outputs": [
    {
     "name": "stderr",
     "output_type": "stream",
     "text": [
      "\u001b[32m\u001b[1m Activating\u001b[22m\u001b[39m environment at `~/Git/advent/2022/CentJulEnv/Project.toml`\n",
      "\u001b[32m\u001b[1m  Resolving\u001b[22m\u001b[39m package versions...\n",
      "\u001b[32m\u001b[1mNo Changes\u001b[22m\u001b[39m to `~/Git/advent/2022/CentJulEnv/Project.toml`\n",
      "\u001b[32m\u001b[1mNo Changes\u001b[22m\u001b[39m to `~/Git/advent/2022/CentJulEnv/Manifest.toml`\n",
      "\u001b[32m\u001b[1m  Resolving\u001b[22m\u001b[39m package versions...\n",
      "\u001b[32m\u001b[1mNo Changes\u001b[22m\u001b[39m to `~/Git/advent/2022/CentJulEnv/Project.toml`\n",
      "\u001b[32m\u001b[1mNo Changes\u001b[22m\u001b[39m to `~/Git/advent/2022/CentJulEnv/Manifest.toml`\n",
      "\u001b[32m\u001b[1m  Resolving\u001b[22m\u001b[39m package versions...\n",
      "\u001b[32m\u001b[1mUpdating\u001b[22m\u001b[39m `~/Git/advent/2022/CentJulEnv/Project.toml`\n",
      " \u001b[90m [8dfed614] \u001b[39m\u001b[92m+ Test\u001b[39m\n",
      "\u001b[32m\u001b[1mNo Changes\u001b[22m\u001b[39m to `~/Git/advent/2022/CentJulEnv/Manifest.toml`\n",
      "\u001b[32m\u001b[1m  Resolving\u001b[22m\u001b[39m package versions...\n",
      "\u001b[32m\u001b[1mNo Changes\u001b[22m\u001b[39m to `~/Git/advent/2022/CentJulEnv/Project.toml`\n",
      "\u001b[32m\u001b[1mNo Changes\u001b[22m\u001b[39m to `~/Git/advent/2022/CentJulEnv/Manifest.toml`\n"
     ]
    }
   ],
   "source": [
    "include(\"env.jl\")\n",
    "Pkg.add(\"Test\")"
   ]
  },
  {
   "cell_type": "markdown",
   "metadata": {},
   "source": [
    "\n",
    "Part 2: Find the top three Elf carrying the most Calories. \n",
    "How many total Calories are those Elf carrying?"
   ]
  },
  {
   "cell_type": "code",
   "execution_count": null,
   "metadata": {},
   "outputs": [],
   "source": [
    "# example list\n",
    "# list = read_txt(\"d1p1_test.txt\")\n",
    "\n",
    "# answers\n",
    "# number of elves = 4\n",
    "# total_calories = [6000; 4000; 11000; 24000; 10000]\n",
    "# len(total_calories) = number of elves\n",
    "# top 3: 2400 + 11000 + 10000 = 45000"
   ]
  },
  {
   "cell_type": "code",
   "execution_count": 22,
   "metadata": {},
   "outputs": [
    {
     "name": "stdout",
     "output_type": "stream",
     "text": [
      "[0, 0, 0]"
     ]
    },
    {
     "data": {
      "text/plain": [
       "6"
      ]
     },
     "execution_count": 22,
     "metadata": {},
     "output_type": "execute_result"
    }
   ],
   "source": [
    "test_a = Array{Int}(undef, 3)\n",
    "z = zeros(Int,3)\n",
    "print(z)\n",
    "test_a[1] = 1\n",
    "test_a[2] = 2\n",
    "test_a[3] = 3\n",
    "\n",
    "\n",
    "sum(test_a)"
   ]
  },
  {
   "cell_type": "code",
   "execution_count": 60,
   "metadata": {},
   "outputs": [
    {
     "data": {
      "text/plain": [
       "read_food_list (generic function with 1 method)"
      ]
     },
     "execution_count": 60,
     "metadata": {},
     "output_type": "execute_result"
    }
   ],
   "source": [
    "# function to parse input file and return array of calories for each elf\n",
    "function get_list(food_list, k=true)\n",
    "    # food_list is a txt input file with calaories counts for each elf\n",
    "    f = open(food_list)\n",
    "    list = readlines(f,keep=k)\n",
    "    close(f)\n",
    "    return list\n",
    "end\n",
    "\n",
    "\n",
    "\n",
    "function read_food_list(food_list)\n",
    "    # food_list is a txt input file with calaories counts for each elf\n",
    "    # each food item is deliminated by \\n\n",
    "    # each elf's stash is deliminated by an extra \\n\n",
    "\n",
    "    # read the list as an array of strings\n",
    "    list = get_list(food_list)\n",
    "\n",
    "    # determine number of elves (this might not be efficient for large lists...)\n",
    "    # each elve's list is deliminated by an extra \"\\n\" so the number of elves equals number of \"\\n\" in the file plus 1\n",
    "    num_elves = sum(list.==\"\\n\") + 1\n",
    "\n",
    "    # initialize calorie_array to the size of number of elves\n",
    "    calorie_array = zeros(Int, num_elves)\n",
    "\n",
    "    # loop through list and add calories to each elve's total\n",
    "    elf_id = 1\n",
    "    for i = 1:length(list)\n",
    "        if list[i] == \"\\n\"\n",
    "            elf_id += 1\n",
    "        else\n",
    "            calorie_array[elf_id] += parse(Int,list[i])\n",
    "        end\n",
    "    end\n",
    "    return calorie_array\n",
    "end"
   ]
  },
  {
   "cell_type": "code",
   "execution_count": 55,
   "metadata": {},
   "outputs": [
    {
     "name": "stdout",
     "output_type": "stream",
     "text": [
      "String1000\n",
      "\n",
      "String2000\n",
      "\n",
      "String3000\n",
      "\n",
      "String\n",
      "\n",
      "String4000\n",
      "\n",
      "String\n",
      "\n",
      "String5000\n",
      "\n",
      "String6000\n",
      "\n",
      "String\n",
      "\n",
      "String7000\n",
      "\n",
      "String8000\n",
      "\n",
      "String9000\n",
      "\n",
      "String\n",
      "\n",
      "String10000\n"
     ]
    },
    {
     "data": {
      "text/plain": [
       "14"
      ]
     },
     "execution_count": 55,
     "metadata": {},
     "output_type": "execute_result"
    }
   ],
   "source": [
    "tl = get_list(\"d1p1_test.txt\")\n",
    "for i = 1:length(tl)\n",
    "    print(typeof(tl[i]))\n",
    "    print(tl[i])\n",
    "    print(\"\\n\")\n",
    "end\n",
    "length(tl)"
   ]
  },
  {
   "cell_type": "code",
   "execution_count": 61,
   "metadata": {},
   "outputs": [
    {
     "data": {
      "text/plain": [
       "5-element Array{Int64,1}:\n",
       "  6000\n",
       "  4000\n",
       " 11000\n",
       " 24000\n",
       " 10000"
      ]
     },
     "execution_count": 61,
     "metadata": {},
     "output_type": "execute_result"
    }
   ],
   "source": [
    "read_food_list(\"d1p1_test.txt\")"
   ]
  },
  {
   "cell_type": "code",
   "execution_count": 62,
   "metadata": {},
   "outputs": [
    {
     "data": {
      "text/plain": [
       "sum_top_x (generic function with 2 methods)"
      ]
     },
     "execution_count": 62,
     "metadata": {},
     "output_type": "execute_result"
    }
   ],
   "source": [
    "function sum_top_x(calorie_list, x=1)\n",
    "    # x = number of top\n",
    "\n",
    "    sorted_list = sort(calorie_list, rev=true) # stort in descending order\n",
    "    total_calories = sum(sorted_list[1:x])\n",
    "\n",
    "    return total_calories\n",
    "end"
   ]
  },
  {
   "cell_type": "code",
   "execution_count": 65,
   "metadata": {},
   "outputs": [
    {
     "data": {
      "text/plain": [
       "45000"
      ]
     },
     "execution_count": 65,
     "metadata": {},
     "output_type": "execute_result"
    }
   ],
   "source": [
    "d1p1t = read_food_list(\"d1p1_test.txt\")\n",
    "answ_p1 = sum_top_x(d1p1t,1)  # top calorie = 24000\n",
    "answ_p2 = sum_top_x(d1p1t,3)  # top calories = 45000"
   ]
  },
  {
   "cell_type": "code",
   "execution_count": 59,
   "metadata": {},
   "outputs": [],
   "source": [
    "# tests\n",
    "# TODO: add julia test package \n",
    "# @test read_food_list(\"d1p1_test.txt\") == 2400"
   ]
  },
  {
   "cell_type": "code",
   "execution_count": 66,
   "metadata": {},
   "outputs": [
    {
     "data": {
      "text/plain": [
       "205615"
      ]
     },
     "execution_count": 66,
     "metadata": {},
     "output_type": "execute_result"
    }
   ],
   "source": [
    "# day 1 problem 2 answer\n",
    "\n",
    "sum_top_x(read_food_list(\"day-1-input.txt\"),3)"
   ]
  }
 ],
 "metadata": {
  "kernelspec": {
   "display_name": "Julia 1.5.3",
   "language": "julia",
   "name": "julia-1.5"
  },
  "language_info": {
   "file_extension": ".jl",
   "mimetype": "application/julia",
   "name": "julia",
   "version": "1.5.3"
  },
  "orig_nbformat": 4
 },
 "nbformat": 4,
 "nbformat_minor": 2
}
