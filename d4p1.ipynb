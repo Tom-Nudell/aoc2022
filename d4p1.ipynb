{
 "cells": [
  {
   "cell_type": "code",
   "execution_count": 1,
   "metadata": {},
   "outputs": [
    {
     "name": "stderr",
     "output_type": "stream",
     "text": [
      "\u001b[32m\u001b[1m Activating\u001b[22m\u001b[39m environment at `~/Git/advent/2022/CentJulEnv/Project.toml`\n"
     ]
    },
    {
     "name": "stderr",
     "output_type": "stream",
     "text": [
      "\u001b[32m\u001b[1m   Updating\u001b[22m\u001b[39m "
     ]
    },
    {
     "name": "stderr",
     "output_type": "stream",
     "text": [
      "registry at `~/.julia/registries/General`\n"
     ]
    },
    {
     "name": "stdout",
     "output_type": "stream",
     "text": [
      "\u001b[?25l    "
     ]
    },
    {
     "name": "stderr",
     "output_type": "stream",
     "text": [
      "\u001b[32m\u001b[1m   Updating\u001b[22m\u001b[39m git-repo `https://github.com/JuliaRegistries/General.git`\n"
     ]
    },
    {
     "name": "stdout",
     "output_type": "stream",
     "text": [
      "\u001b[36m\u001b[1mFetching:\u001b[22m\u001b[39m [>                                        ]  0.0 %\r\u001b[2K\u001b[?25h"
     ]
    },
    {
     "name": "stderr",
     "output_type": "stream",
     "text": [
      "\u001b[32m\u001b[1m  Resolving\u001b[22m\u001b[39m package versions...\n"
     ]
    },
    {
     "name": "stderr",
     "output_type": "stream",
     "text": [
      "\u001b[32m\u001b[1mNo Changes\u001b[22m\u001b[39m to `~/Git/advent/2022/CentJulEnv/Project.toml`\n",
      "\u001b[32m\u001b[1mNo Changes\u001b[22m\u001b[39m to `~/Git/advent/2022/CentJulEnv/Manifest.toml`\n"
     ]
    },
    {
     "name": "stderr",
     "output_type": "stream",
     "text": [
      "\u001b[32m\u001b[1m  Resolving\u001b[22m\u001b[39m package versions...\n"
     ]
    },
    {
     "name": "stderr",
     "output_type": "stream",
     "text": [
      "\u001b[32m\u001b[1mNo Changes\u001b[22m\u001b[39m to `~/Git/advent/2022/CentJulEnv/Project.toml`\n",
      "\u001b[32m\u001b[1mNo Changes\u001b[22m\u001b[39m to `~/Git/advent/2022/CentJulEnv/Manifest.toml`\n",
      "\u001b[32m\u001b[1m  Resolving\u001b[22m\u001b[39m package versions...\n"
     ]
    },
    {
     "name": "stderr",
     "output_type": "stream",
     "text": [
      "\u001b[32m\u001b[1mNo Changes\u001b[22m\u001b[39m to `~/Git/advent/2022/CentJulEnv/Project.toml`\n",
      "\u001b[32m\u001b[1mNo Changes\u001b[22m\u001b[39m to `~/Git/advent/2022/CentJulEnv/Manifest.toml`\n"
     ]
    }
   ],
   "source": [
    "include(\"env.jl\")"
   ]
  },
  {
   "cell_type": "code",
   "execution_count": 2,
   "metadata": {},
   "outputs": [
    {
     "data": {
      "text/plain": [
       "get_list (generic function with 2 methods)"
      ]
     },
     "metadata": {},
     "output_type": "display_data"
    }
   ],
   "source": [
    "# read the assignment list\n",
    "function get_list(list, k=false)\n",
    "    # list is an assignment for cleaning\n",
    "    # first number is initial section\n",
    "    # split \"-\"\n",
    "    # second number is final section\n",
    "    # all numbers are ints\n",
    "\n",
    "    f = open(list)\n",
    "    l = readlines(f,keep=k)\n",
    "    close(f)\n",
    "    return l\n",
    "end"
   ]
  },
  {
   "cell_type": "code",
   "execution_count": 45,
   "metadata": {},
   "outputs": [
    {
     "data": {
      "text/plain": [
       "check_overlap (generic function with 1 method)"
      ]
     },
     "metadata": {},
     "output_type": "display_data"
    }
   ],
   "source": [
    "# check overlap\n",
    "\n",
    "function check_overlap(list)\n",
    "    # list is an array of substrings\n",
    "    \n",
    "    overlap_count = 0\n",
    "    for pair in list\n",
    "        s1, e1 = parse.(Int, split(pair[1],\"-\"))\n",
    "        s2, e2 = parse.(Int, split(pair[2],\"-\"))\n",
    "\n",
    "        if s1 >= s2 && e1 <= e2\n",
    "            overlap_count += 1\n",
    "        elseif s2 >= s1 && e2 <= e1\n",
    "            overlap_count += 1\n",
    "        end\n",
    "    end\n",
    "\n",
    "    return overlap_count\n",
    "end\n"
   ]
  },
  {
   "cell_type": "code",
   "execution_count": 46,
   "metadata": {},
   "outputs": [
    {
     "data": {
      "text/plain": [
       "2"
      ]
     },
     "metadata": {},
     "output_type": "display_data"
    }
   ],
   "source": [
    "# test some things\n",
    "# answer should be 2\n",
    "\n",
    "list = get_list(\"d4p1_test.txt\")\n",
    "splitlist = split.(list,\",\")      #returns array of substrings\n",
    "splitlist[1][1][1] > splitlist[1][1][1]\n",
    "check_overlap(splitlist)\n",
    "\n",
    "# parse strings to get start section and end section for each pair\n",
    "# if start1 >= start2 && end1 <= end2 \n",
    "# contained\n",
    "# else if start2 >= start1 && end2 <= end1\n",
    "# contained\n",
    "# compare "
   ]
  },
  {
   "cell_type": "code",
   "execution_count": 47,
   "metadata": {},
   "outputs": [
    {
     "data": {
      "text/plain": [
       "4"
      ]
     },
     "metadata": {},
     "output_type": "display_data"
    }
   ],
   "source": [
    "# test some more things\n",
    "# answer should be 4;\n",
    "\n",
    "list = get_list(\"d4p1_test2.txt\")\n",
    "splitlist = split.(list,\",\")      #returns array of substrings\n",
    "s, e = parse.(Int, split(splitlist[8][1],\"-\"))\n",
    "check_overlap(splitlist)\n",
    "\n"
   ]
  },
  {
   "cell_type": "code",
   "execution_count": 12,
   "metadata": {},
   "outputs": [
    {
     "ename": "MethodError",
     "evalue": "MethodError: no method matching parse(::Array{SubString{String},1})\nClosest candidates are:\n  parse(!Matched::Type{T}, !Matched::AbstractChar; base) where T<:Integer at parse.jl:40\n  parse(!Matched::Type{T}, !Matched::AbstractString; base) where T<:Integer at parse.jl:237\n  parse(!Matched::Type{T}, !Matched::AbstractString; kwargs...) where T<:Real at parse.jl:376\n  ...",
     "output_type": "error",
     "traceback": [
      "MethodError: no method matching parse(::Array{SubString{String},1})\n",
      "Closest candidates are:\n",
      "  parse(!Matched::Type{T}, !Matched::AbstractChar; base) where T<:Integer at parse.jl:40\n",
      "  parse(!Matched::Type{T}, !Matched::AbstractString; base) where T<:Integer at parse.jl:237\n",
      "  parse(!Matched::Type{T}, !Matched::AbstractString; kwargs...) where T<:Real at parse.jl:376\n",
      "  ...\n",
      "\n",
      "Stacktrace:\n",
      " [1] top-level scope at /Users/tom.nudell/Git/advent/2022/aoc2022/d4p1.ipynb:1"
     ]
    }
   ],
   "source": [
    "parse(splitlist[1])"
   ]
  },
  {
   "cell_type": "code",
   "execution_count": 48,
   "metadata": {},
   "outputs": [
    {
     "data": {
      "text/plain": [
       "431"
      ]
     },
     "metadata": {},
     "output_type": "display_data"
    }
   ],
   "source": [
    "# solution for d4p1\n",
    "\n",
    "list = get_list(\"day-4-input.txt\")\n",
    "slist = split.(list,\",\")\n",
    "overlaps = check_overlap(slist)"
   ]
  },
  {
   "cell_type": "markdown",
   "metadata": {},
   "source": [
    "## Part 2\n",
    "It seems like there is still quite a bit of duplicate work planned. Instead, the Elves would like to know the number of pairs that overlap at all.\n",
    "\n",
    "In the above example, the first two pairs (2-4,6-8 and 2-3,4-5) don't overlap, while the remaining four pairs (5-7,7-9, 2-8,3-7, 6-6,4-6, and 2-6,4-8) do overlap:"
   ]
  },
  {
   "cell_type": "code",
   "execution_count": 81,
   "metadata": {},
   "outputs": [
    {
     "data": {
      "text/plain": [
       "check_partial_overlap (generic function with 1 method)"
      ]
     },
     "metadata": {},
     "output_type": "display_data"
    }
   ],
   "source": [
    "function check_partial_overlap(list)\n",
    "    # list is an array of substrings\n",
    "    \n",
    "    overlap_count = 0\n",
    "    for pair in list\n",
    "        s1, e1 = parse.(Int, split(pair[1],\"-\"))\n",
    "        s2, e2 = parse.(Int, split(pair[2],\"-\"))\n",
    "\n",
    "\n",
    "        if s2 in range(s1,e1,step=1)\n",
    "            overlap_count += 1\n",
    "        elseif s1 in range(s2,e2,step=1)\n",
    "            overlap_count += 1\n",
    "        end\n",
    "    end\n",
    "\n",
    "    return overlap_count\n",
    "end"
   ]
  },
  {
   "cell_type": "code",
   "execution_count": 83,
   "metadata": {},
   "outputs": [
    {
     "data": {
      "text/plain": [
       "8"
      ]
     },
     "metadata": {},
     "output_type": "display_data"
    }
   ],
   "source": [
    "# test some more things\n",
    "# answer should be 4\n",
    "\n",
    "list = get_list(\"d4p1_test.txt\")\n",
    "splitlist = split.(list,\",\")      #returns array of substrings\n",
    "check_partial_overlap(splitlist)\n",
    "\n",
    "\n",
    "# test with double digit numbers\n",
    "# answer should be 8\n",
    "list2 = get_list(\"d4p1_test2.txt\")\n",
    "splitlist2 = split.(list2,\",\")      #returns array of substrings\n",
    "check_partial_overlap(splitlist2)"
   ]
  },
  {
   "cell_type": "code",
   "execution_count": 84,
   "metadata": {},
   "outputs": [
    {
     "data": {
      "text/plain": [
       "823"
      ]
     },
     "metadata": {},
     "output_type": "display_data"
    }
   ],
   "source": [
    "# solution for d4p2\n",
    "\n",
    "list = get_list(\"day-4-input.txt\")\n",
    "slist = split.(list,\",\")\n",
    "overlaps = check_partial_overlap(slist)"
   ]
  },
  {
   "cell_type": "code",
   "execution_count": null,
   "metadata": {},
   "outputs": [],
   "source": []
  }
 ],
 "metadata": {
  "kernelspec": {
   "display_name": "Julia 1.5.3",
   "language": "julia",
   "name": "julia-1.5"
  },
  "language_info": {
   "file_extension": ".jl",
   "mimetype": "application/julia",
   "name": "julia",
   "version": "1.5.3"
  },
  "orig_nbformat": 4
 },
 "nbformat": 4,
 "nbformat_minor": 2
}
