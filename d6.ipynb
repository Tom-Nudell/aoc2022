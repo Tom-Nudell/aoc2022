{
 "cells": [
  {
   "cell_type": "code",
   "execution_count": 1,
   "metadata": {},
   "outputs": [
    {
     "name": "stderr",
     "output_type": "stream",
     "text": [
      "\u001b[32m\u001b[1m Activating\u001b[22m\u001b[39m environment at `~/Git/advent/2022/aoc2022/CentJulEnv/Project.toml`\n"
     ]
    },
    {
     "name": "stderr",
     "output_type": "stream",
     "text": [
      "\u001b[32m\u001b[1m   Updating\u001b[22m\u001b[39m "
     ]
    },
    {
     "name": "stderr",
     "output_type": "stream",
     "text": [
      "registry at `~/.julia/registries/General`\n"
     ]
    },
    {
     "name": "stdout",
     "output_type": "stream",
     "text": [
      "\u001b[?25l    "
     ]
    },
    {
     "name": "stderr",
     "output_type": "stream",
     "text": [
      "\u001b[32m\u001b[1m   Updating\u001b[22m\u001b[39m git-repo `https://github.com/JuliaRegistries/General.git`\n"
     ]
    },
    {
     "name": "stdout",
     "output_type": "stream",
     "text": [
      "\u001b[36m\u001b[1mFetching:\u001b[22m\u001b[39m [>                                        ]  0.0 %\r"
     ]
    },
    {
     "name": "stdout",
     "output_type": "stream",
     "text": [
      "    \u001b[36m\u001b[1mResolving Deltas:\u001b[22m\u001b[39m [=====================>                   ]  50.7 %\r"
     ]
    },
    {
     "name": "stdout",
     "output_type": "stream",
     "text": [
      "\u001b[2K\u001b[?25h"
     ]
    },
    {
     "name": "stderr",
     "output_type": "stream",
     "text": [
      "\u001b[32m\u001b[1m  Resolving\u001b[22m\u001b[39m package versions...\n"
     ]
    },
    {
     "name": "stderr",
     "output_type": "stream",
     "text": [
      "\u001b[32m\u001b[1mNo Changes\u001b[22m\u001b[39m to `~/Git/advent/2022/aoc2022/CentJulEnv/Project.toml`\n",
      "\u001b[32m\u001b[1mNo Changes\u001b[22m\u001b[39m to `~/Git/advent/2022/aoc2022/CentJulEnv/Manifest.toml`\n",
      "\u001b[32m\u001b[1m  Resolving\u001b[22m\u001b[39m package versions...\n"
     ]
    },
    {
     "name": "stderr",
     "output_type": "stream",
     "text": [
      "\u001b[32m\u001b[1mNo Changes\u001b[22m\u001b[39m to `~/Git/advent/2022/aoc2022/CentJulEnv/Project.toml`\n",
      "\u001b[32m\u001b[1mNo Changes\u001b[22m\u001b[39m to `~/Git/advent/2022/aoc2022/CentJulEnv/Manifest.toml`\n",
      "\u001b[32m\u001b[1m  Resolving\u001b[22m\u001b[39m package versions...\n"
     ]
    },
    {
     "name": "stderr",
     "output_type": "stream",
     "text": [
      "\u001b[32m\u001b[1mNo Changes\u001b[22m\u001b[39m to `~/Git/advent/2022/aoc2022/CentJulEnv/Project.toml`\n",
      "\u001b[32m\u001b[1mNo Changes\u001b[22m\u001b[39m to `~/Git/advent/2022/aoc2022/CentJulEnv/Manifest.toml`\n"
     ]
    },
    {
     "data": {
      "text/plain": [
       "read_input (generic function with 2 methods)"
      ]
     },
     "metadata": {},
     "output_type": "display_data"
    }
   ],
   "source": [
    "include(\"env.jl\")\n",
    "include(\"utils.jl\")"
   ]
  },
  {
   "cell_type": "markdown",
   "metadata": {},
   "source": [
    "## Part 1: Detect Start of Packet Marker\n",
    "\n",
    "Find start of packet marker where the packet has four different characters in a row\n",
    "Expect that part two will require finding all start of packet markers and splitting up the string"
   ]
  },
  {
   "cell_type": "code",
   "execution_count": 41,
   "metadata": {},
   "outputs": [
    {
     "data": {
      "text/plain": [
       "4-element Array{String,1}:\n",
       " \"bvwbjplbgvbhsrlpgdmjqwftvncz\"\n",
       " \"nppdvjthqldpwncqszvftbrmjlhg\"\n",
       " \"nznrnfrfntjfmvfwmzdfjlvtqnbhcprsg\"\n",
       " \"zcfzfwzzqfrljwzlrfnpqdbhtmscgvjw\""
      ]
     },
     "metadata": {},
     "output_type": "display_data"
    }
   ],
   "source": [
    "# part 1 exploration\n",
    "# d6p1_test.txt has 4 lines, each one a different example. \n",
    "# the actual input file for day 6 only has one line \n",
    "\n",
    "test_input = read_input(\"d6p1_test.txt\")"
   ]
  },
  {
   "cell_type": "code",
   "execution_count": 111,
   "metadata": {},
   "outputs": [
    {
     "data": {
      "text/plain": [
       "find_start (generic function with 2 methods)"
      ]
     },
     "metadata": {},
     "output_type": "display_data"
    }
   ],
   "source": [
    "# develop a function with test inputs\n",
    "\n",
    "function find_start(line, window_size=4)\n",
    "\n",
    "    packet = Char[] # initialize empty packet\n",
    "    for position = 1:1:length(line)\n",
    "        \n",
    "        # add the next element to our packet window and remove the first if the window is too big\n",
    "        push!(packet, line[position])\n",
    "        \n",
    "        if position > window_size\n",
    "            popfirst!(packet)\n",
    "           # print(packet, \"\\n\")\n",
    "        end\n",
    "        \n",
    "        \n",
    "        n_unique = length(unique(packet))\n",
    "\n",
    "        if n_unique == window_size\n",
    "            print(\"start of packet marker found at \", position, \"\\n\")\n",
    "            break\n",
    "        end\n",
    "    end\n",
    "\n",
    "    return position\n",
    "\n",
    "end"
   ]
  },
  {
   "cell_type": "code",
   "execution_count": 110,
   "metadata": {},
   "outputs": [
    {
     "name": "stdout",
     "output_type": "stream",
     "text": [
      "start of packet marker found at 5\n",
      "start of packet marker found at 6\n",
      "start of packet marker found at 10\n",
      "start of packet marker found at 11\n"
     ]
    }
   ],
   "source": [
    "# test inputs\n",
    "# 5, 6, 10, 11\n",
    "\n",
    "for line in test_input\n",
    "    find_start(line)\n",
    "end"
   ]
  },
  {
   "cell_type": "code",
   "execution_count": 104,
   "metadata": {},
   "outputs": [
    {
     "name": "stdout",
     "output_type": "stream",
     "text": [
      "start of packet marker found at 1707\n"
     ]
    },
    {
     "data": {
      "text/plain": [
       "position (generic function with 7 methods)"
      ]
     },
     "metadata": {},
     "output_type": "display_data"
    }
   ],
   "source": [
    "# solve d6p1\n",
    "input = read_input(\"day-6-input.txt\")\n",
    "find_start(input[1])"
   ]
  },
  {
   "cell_type": "markdown",
   "metadata": {},
   "source": [
    "## Part 2\n",
    "\n",
    "Find message is 14 distinct characters; \n",
    "just update window to 14"
   ]
  },
  {
   "cell_type": "code",
   "execution_count": 108,
   "metadata": {},
   "outputs": [
    {
     "name": "stdout",
     "output_type": "stream",
     "text": [
      "start of packet marker found at 19\n",
      "start of packet marker found at 23\n",
      "start of packet marker found at 23\n",
      "start of packet marker found at 29\n",
      "start of packet marker found at 26\n"
     ]
    }
   ],
   "source": [
    "# test for part 2\n",
    "# 19, 23, 23, 29, 26\n",
    "test_input2 = read_input(\"d6p1_test2.txt\")\n",
    "for line in test_input2\n",
    "    find_start(line, 14)\n",
    "end"
   ]
  },
  {
   "cell_type": "code",
   "execution_count": 109,
   "metadata": {},
   "outputs": [
    {
     "name": "stdout",
     "output_type": "stream",
     "text": [
      "start of packet marker found at 3697\n"
     ]
    },
    {
     "data": {
      "text/plain": [
       "position (generic function with 7 methods)"
      ]
     },
     "metadata": {},
     "output_type": "display_data"
    }
   ],
   "source": [
    "# solve d6p2\n",
    "input = read_input(\"day-6-input.txt\")\n",
    "d6p2 = find_start(input[1], 14)"
   ]
  },
  {
   "cell_type": "code",
   "execution_count": null,
   "metadata": {},
   "outputs": [],
   "source": []
  }
 ],
 "metadata": {
  "kernelspec": {
   "display_name": "Julia 1.5.3",
   "language": "julia",
   "name": "julia-1.5"
  },
  "language_info": {
   "file_extension": ".jl",
   "mimetype": "application/julia",
   "name": "julia",
   "version": "1.5.3"
  },
  "orig_nbformat": 4
 },
 "nbformat": 4,
 "nbformat_minor": 2
}
