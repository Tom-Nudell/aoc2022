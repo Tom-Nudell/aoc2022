{
 "cells": [
  {
   "cell_type": "code",
   "execution_count": 1,
   "metadata": {},
   "outputs": [
    {
     "name": "stderr",
     "output_type": "stream",
     "text": [
      "\u001b[32m\u001b[1m Activating\u001b[22m\u001b[39m environment at `~/Git/advent/2022/CentJulEnv/Project.toml`\n"
     ]
    },
    {
     "name": "stderr",
     "output_type": "stream",
     "text": [
      "\u001b[32m\u001b[1m   Updating\u001b[22m\u001b[39m "
     ]
    },
    {
     "name": "stderr",
     "output_type": "stream",
     "text": [
      "registry at `~/.julia/registries/General`\n"
     ]
    },
    {
     "name": "stdout",
     "output_type": "stream",
     "text": [
      "\u001b[?25l    "
     ]
    },
    {
     "name": "stderr",
     "output_type": "stream",
     "text": [
      "\u001b[32m\u001b[1m   Updating\u001b[22m\u001b[39m git-repo `https://github.com/JuliaRegistries/General.git`\n"
     ]
    },
    {
     "name": "stdout",
     "output_type": "stream",
     "text": [
      "\u001b[36m\u001b[1mFetching:\u001b[22m\u001b[39m [>                                        ]  0.0 %\r"
     ]
    },
    {
     "name": "stdout",
     "output_type": "stream",
     "text": [
      "\u001b[2K\u001b[?25h"
     ]
    },
    {
     "name": "stderr",
     "output_type": "stream",
     "text": [
      "\u001b[32m\u001b[1m  Resolving\u001b[22m\u001b[39m package versions...\n"
     ]
    },
    {
     "name": "stderr",
     "output_type": "stream",
     "text": [
      "\u001b[32m\u001b[1mNo Changes\u001b[22m\u001b[39m to `~/Git/advent/2022/CentJulEnv/Project.toml`\n",
      "\u001b[32m\u001b[1mNo Changes\u001b[22m\u001b[39m to `~/Git/advent/2022/CentJulEnv/Manifest.toml`\n",
      "\u001b[32m\u001b[1m  Resolving\u001b[22m\u001b[39m package versions...\n"
     ]
    },
    {
     "name": "stderr",
     "output_type": "stream",
     "text": [
      "\u001b[32m\u001b[1mNo Changes\u001b[22m\u001b[39m to `~/Git/advent/2022/CentJulEnv/Project.toml`\n",
      "\u001b[32m\u001b[1mNo Changes\u001b[22m\u001b[39m to `~/Git/advent/2022/CentJulEnv/Manifest.toml`\n",
      "\u001b[32m\u001b[1m  Resolving\u001b[22m\u001b[39m package versions...\n"
     ]
    },
    {
     "name": "stderr",
     "output_type": "stream",
     "text": [
      "\u001b[32m\u001b[1mNo Changes\u001b[22m\u001b[39m to `~/Git/advent/2022/CentJulEnv/Project.toml`\n",
      "\u001b[32m\u001b[1mNo Changes\u001b[22m\u001b[39m to `~/Git/advent/2022/CentJulEnv/Manifest.toml`\n"
     ]
    }
   ],
   "source": [
    "include(\"env.jl\")"
   ]
  },
  {
   "cell_type": "code",
   "execution_count": 5,
   "metadata": {},
   "outputs": [
    {
     "data": {
      "text/plain": [
       "get_list (generic function with 2 methods)"
      ]
     },
     "metadata": {},
     "output_type": "display_data"
    }
   ],
   "source": [
    "# read the sack list\n",
    "function get_list(list, k=false)\n",
    "    # list is a txt input file with gifts in each sack \n",
    "    f = open(list)\n",
    "    l = readlines(f,keep=k)\n",
    "    close(f)\n",
    "    return l\n",
    "end"
   ]
  },
  {
   "cell_type": "code",
   "execution_count": 6,
   "metadata": {},
   "outputs": [
    {
     "data": {
      "text/plain": [
       "split_sack (generic function with 1 method)"
      ]
     },
     "metadata": {},
     "output_type": "display_data"
    }
   ],
   "source": [
    "# split the sacks into two compartments \n",
    "\n",
    "function split_sack(sack)\n",
    "    # input sack is a string of even length\n",
    "    # return compartments which are the first and second half of the input sack, respectively \n",
    "    \n",
    "    comp_size = Int(length(sack)/2)\n",
    "    compartment_1 = sack[1:comp_size]\n",
    "    compartment_2 = sack[comp_size+1:end]\n",
    "\n",
    "    return compartment_1, compartment_2\n",
    "end"
   ]
  },
  {
   "cell_type": "code",
   "execution_count": 7,
   "metadata": {},
   "outputs": [
    {
     "data": {
      "text/plain": [
       "find_overlap (generic function with 1 method)"
      ]
     },
     "metadata": {},
     "output_type": "display_data"
    }
   ],
   "source": [
    "# compare contents of the sacks\n",
    "\n",
    "function find_overlap(compartment_1, compartment_2)\n",
    "    # compartments are strings of equal length\n",
    "    # return the string of overlapping items\n",
    "    overlap = \"\"      # initialize overlap\n",
    "\n",
    "    for item in compartment_1\n",
    "        if occursin(item,compartment_2) \n",
    "            overlap *= item                # item occurs in each compartment, so add it to overlap\n",
    "        end\n",
    "    end \n",
    "\n",
    "    return overlap\n",
    "end"
   ]
  },
  {
   "cell_type": "code",
   "execution_count": 48,
   "metadata": {},
   "outputs": [
    {
     "data": {
      "text/plain": [
       "get_priority (generic function with 1 method)"
      ]
     },
     "metadata": {},
     "output_type": "display_data"
    }
   ],
   "source": [
    "# prioritize the items \n",
    "# a,b,c,...,z -> 1,2,3,...,26\n",
    "# A,B,C,...,Z -> 27,28,29,...,52\n",
    "# try using unicode or ascii mapping. a = 0x61, b = 0x62, ...\n",
    "# example Char(120) returns 'x'\n",
    "\n",
    "priorties = 1:1:52\n",
    "id = \"abcdefghijklmnopqrstuvwxyzABCDEFGHIJKLMNOPQRSTUVWXYZ\"\n",
    "\n",
    "\n",
    "\n",
    "function get_priority(item)\n",
    "    # assumes item is a single character item\n",
    "\n",
    "    id = \"abcdefghijklmnopqrstuvwxyzABCDEFGHIJKLMNOPQRSTUVWXYZ\"\n",
    "    values = 1:1:52 # these are mapped in order, so for now this is redundent\n",
    "\n",
    "    index = findfirst(item,id)\n",
    "    priority = values[index]\n",
    "\n",
    "    return priority\n",
    "end\n"
   ]
  },
  {
   "cell_type": "code",
   "execution_count": null,
   "metadata": {},
   "outputs": [],
   "source": [
    "# day 3 problem 2\n",
    "# group elves by every three lines\n",
    "# find common items to determine the badge\n"
   ]
  },
  {
   "cell_type": "code",
   "execution_count": 34,
   "metadata": {},
   "outputs": [
    {
     "data": {
      "text/plain": [
       "group_list (generic function with 2 methods)"
      ]
     },
     "metadata": {},
     "output_type": "display_data"
    }
   ],
   "source": [
    "function group_list(list, group_size=3)\n",
    "    # assume list is an array of strings\n",
    "    # length of list is divisible by 3\n",
    "    # there is probably a reshape function that does this directly....\n",
    "    \n",
    "    number_groups = Int(length(list)/group_size)\n",
    "    groups = Array{String}(undef, number_groups, group_size)\n",
    "\n",
    "    for i=1:number_groups\n",
    "        g = group_size*(i-1)                  # map index i to group index\n",
    "        groups[i,:] = list[g+1:g+group_size]\n",
    "    end\n",
    "\n",
    "    return groups\n",
    "end"
   ]
  },
  {
   "cell_type": "code",
   "execution_count": null,
   "metadata": {},
   "outputs": [],
   "source": [
    "# compare contents of the groups\n",
    "# TODO: figure out how to reuse functions....\n",
    "\n",
    "function find_badge(group)\n",
    "    # group is an array of strings for the group\n",
    "\n",
    "    number_sacks = size(group,2)\n",
    "\n",
    "\n",
    "    overlap_12 = find_overlap(group[1,:], group[2,:])\n",
    "    overlap = find_overlap(overlap_12,group[3,:])\n",
    "    \n",
    "    find_overlap(compartment_1, compartment_2)\n",
    "\n",
    "\n",
    "    return overlap\n",
    "end"
   ]
  },
  {
   "cell_type": "code",
   "execution_count": 51,
   "metadata": {},
   "outputs": [
    {
     "name": "stdout",
     "output_type": "stream",
     "text": [
      "70"
     ]
    }
   ],
   "source": [
    "# test some things out \n",
    "d3p1_test = get_list(\"d3p1_test.txt\")\n",
    "list = d3p1_test\n",
    "groups = group_list(list)\n",
    "\n",
    "priority = 0\n",
    "for g = 1:size(groups,1)\n",
    "    # each group g has n sacks, where n = number of elves in the group\n",
    "    sacks = groups[g,:]\n",
    "\n",
    "    \n",
    "    overlap = find_overlap(find_overlap(sacks[1],sacks[2]),sacks[3])\n",
    "    priority += get_priority(overlap[1])\n",
    "    \n",
    "end\n",
    "\n",
    "print(priority)\n",
    "\n",
    "\n",
    "\n"
   ]
  },
  {
   "cell_type": "code",
   "execution_count": 52,
   "metadata": {},
   "outputs": [
    {
     "name": "stdout",
     "output_type": "stream",
     "text": [
      "2668"
     ]
    }
   ],
   "source": [
    "# solve d3p1\n",
    "\n",
    "list = get_list(\"day-3-input.txt\")\n",
    "groups = group_list(list)\n",
    "\n",
    "priority = 0\n",
    "for g = 1:size(groups,1)\n",
    "    # each group g has n sacks, where n = number of elves in the group\n",
    "    sacks = groups[g,:]\n",
    "\n",
    "    overlap = find_overlap(find_overlap(sacks[1],sacks[2]),sacks[3])\n",
    "    priority += get_priority(overlap[1])\n",
    "end\n",
    "\n",
    "\n",
    "print(priority)\n",
    "    "
   ]
  },
  {
   "cell_type": "code",
   "execution_count": null,
   "metadata": {},
   "outputs": [],
   "source": []
  }
 ],
 "metadata": {
  "kernelspec": {
   "display_name": "Julia 1.5.3",
   "language": "julia",
   "name": "julia-1.5"
  },
  "language_info": {
   "file_extension": ".jl",
   "mimetype": "application/julia",
   "name": "julia",
   "version": "1.5.3"
  },
  "orig_nbformat": 4,
  "vscode": {
   "interpreter": {
    "hash": "d3c49d1e3eabae81f759221716f2dc5a0500a8cb2367424773b681726b375089"
   }
  }
 },
 "nbformat": 4,
 "nbformat_minor": 2
}
