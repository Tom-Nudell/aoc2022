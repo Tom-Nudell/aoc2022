{
 "cells": [
  {
   "cell_type": "code",
   "execution_count": 1,
   "metadata": {},
   "outputs": [
    {
     "name": "stderr",
     "output_type": "stream",
     "text": [
      "\u001b[32m\u001b[1m Activating\u001b[22m\u001b[39m environment at `~/Git/advent/2022/CentJulEnv/Project.toml`\n"
     ]
    },
    {
     "name": "stderr",
     "output_type": "stream",
     "text": [
      "\u001b[32m\u001b[1m   Updating\u001b[22m\u001b[39m "
     ]
    },
    {
     "name": "stderr",
     "output_type": "stream",
     "text": [
      "registry at `~/.julia/registries/General`\n"
     ]
    },
    {
     "name": "stdout",
     "output_type": "stream",
     "text": [
      "\u001b[?25l    "
     ]
    },
    {
     "name": "stderr",
     "output_type": "stream",
     "text": [
      "\u001b[32m\u001b[1m   Updating\u001b[22m\u001b[39m git-repo `https://github.com/JuliaRegistries/General.git`\n"
     ]
    },
    {
     "name": "stdout",
     "output_type": "stream",
     "text": [
      "\u001b[36m\u001b[1mFetching:\u001b[22m\u001b[39m [>                                        ]  0.0 %\r"
     ]
    },
    {
     "name": "stdout",
     "output_type": "stream",
     "text": [
      "\u001b[2K\u001b[?25h"
     ]
    },
    {
     "name": "stderr",
     "output_type": "stream",
     "text": [
      "\u001b[32m\u001b[1m  Resolving\u001b[22m\u001b[39m package versions...\n"
     ]
    },
    {
     "name": "stderr",
     "output_type": "stream",
     "text": [
      "\u001b[32m\u001b[1mNo Changes\u001b[22m\u001b[39m to `~/Git/advent/2022/CentJulEnv/Project.toml`\n",
      "\u001b[32m\u001b[1mNo Changes\u001b[22m\u001b[39m to `~/Git/advent/2022/CentJulEnv/Manifest.toml`\n",
      "\u001b[32m\u001b[1m  Resolving\u001b[22m\u001b[39m package versions...\n"
     ]
    },
    {
     "name": "stderr",
     "output_type": "stream",
     "text": [
      "\u001b[32m\u001b[1mNo Changes\u001b[22m\u001b[39m to `~/Git/advent/2022/CentJulEnv/Project.toml`\n",
      "\u001b[32m\u001b[1mNo Changes\u001b[22m\u001b[39m to `~/Git/advent/2022/CentJulEnv/Manifest.toml`\n",
      "\u001b[32m\u001b[1m  Resolving\u001b[22m\u001b[39m package versions...\n"
     ]
    },
    {
     "name": "stderr",
     "output_type": "stream",
     "text": [
      "\u001b[32m\u001b[1mNo Changes\u001b[22m\u001b[39m to `~/Git/advent/2022/CentJulEnv/Project.toml`\n",
      "\u001b[32m\u001b[1mNo Changes\u001b[22m\u001b[39m to `~/Git/advent/2022/CentJulEnv/Manifest.toml`\n"
     ]
    }
   ],
   "source": [
    "include(\"env.jl\")"
   ]
  },
  {
   "cell_type": "code",
   "execution_count": 4,
   "metadata": {},
   "outputs": [
    {
     "data": {
      "text/plain": [
       "get_list (generic function with 2 methods)"
      ]
     },
     "metadata": {},
     "output_type": "display_data"
    }
   ],
   "source": [
    "# read the sack list\n",
    "function get_list(list, k=false)\n",
    "    # list is a txt input file with gifts in each sack \n",
    "    f = open(list)\n",
    "    l = readlines(f,keep=k)\n",
    "    close(f)\n",
    "    return l\n",
    "end"
   ]
  },
  {
   "cell_type": "code",
   "execution_count": 5,
   "metadata": {},
   "outputs": [
    {
     "data": {
      "text/plain": [
       "6-element Array{String,1}:\n",
       " \"vJrwpWtwJgWrhcsFMMfFFhFp\"\n",
       " \"jqHRNqRjqzjGDLGLrsFMfFZSrLrFZsSL\"\n",
       " \"PmmdzqPrVvPwwTWBwg\"\n",
       " \"wMqvLMZHhHMvwLHjbvcjnnSBnvTQFn\"\n",
       " \"ttgJtRGJQctTZtZT\"\n",
       " \"CrZsJsPPZsGzwwsLwLmpwMDw\""
      ]
     },
     "metadata": {},
     "output_type": "display_data"
    }
   ],
   "source": [
    "d3p1_test = get_list(\"d3p1_test.txt\")"
   ]
  },
  {
   "cell_type": "code",
   "execution_count": 30,
   "metadata": {},
   "outputs": [
    {
     "data": {
      "text/plain": [
       "split_sack (generic function with 1 method)"
      ]
     },
     "metadata": {},
     "output_type": "display_data"
    }
   ],
   "source": [
    "# split the sacks into two compartments \n",
    "\n",
    "function split_sack(sack)\n",
    "    # input sack is a string of even length\n",
    "    # return compartments which are the first and second half of the input sack, respectively \n",
    "    \n",
    "    comp_size = Int(length(sack)/2)\n",
    "    compartment_1 = sack[1:comp_size]\n",
    "    compartment_2 = sack[comp_size+1:end]\n",
    "\n",
    "    return compartment_1, compartment_2\n",
    "end"
   ]
  },
  {
   "cell_type": "code",
   "execution_count": 64,
   "metadata": {},
   "outputs": [
    {
     "data": {
      "text/plain": [
       "find_overlap (generic function with 1 method)"
      ]
     },
     "metadata": {},
     "output_type": "display_data"
    }
   ],
   "source": [
    "# compare contents of the sacks\n",
    "\n",
    "function find_overlap(compartment_1, compartment_2)\n",
    "    # compartments are strings of equal length\n",
    "    # return the string of overlapping items\n",
    "    overlap = \"\"      # initialize overlap\n",
    "\n",
    "    for item in compartment_1\n",
    "        if occursin(item,compartment_2) \n",
    "            overlap *= item                # item occurs in each compartment, so add it to overlap\n",
    "        end\n",
    "    end \n",
    "\n",
    "    return overlap\n",
    "end"
   ]
  },
  {
   "cell_type": "code",
   "execution_count": 89,
   "metadata": {},
   "outputs": [
    {
     "data": {
      "text/plain": [
       "get_priority (generic function with 1 method)"
      ]
     },
     "metadata": {},
     "output_type": "display_data"
    }
   ],
   "source": [
    "# prioritize the items \n",
    "# a,b,c,...,z -> 1,2,3,...,26\n",
    "# A,B,C,...,Z -> 27,28,29,...,52\n",
    "# try using unicode mapping. a = 0x61, b = 0x62, ...\n",
    "priorties = 1:1:52\n",
    "id = \"abcdefghijklmnopqrstuvwxyzABCDEFGHIJKLMNOPQRSTUVWXYZ\"\n",
    "\n",
    "function get_priority(item)\n",
    "    # assumes item is a single character item\n",
    "\n",
    "    id = \"abcdefghijklmnopqrstuvwxyzABCDEFGHIJKLMNOPQRSTUVWXYZ\"\n",
    "    values = 1:1:52 # these are mapped in order, so for now this is redundent\n",
    "\n",
    "    index = findfirst(item,id)\n",
    "    priority = values[index]\n",
    "\n",
    "    return priority\n",
    "end\n"
   ]
  },
  {
   "cell_type": "code",
   "execution_count": 95,
   "metadata": {},
   "outputs": [
    {
     "name": "stdout",
     "output_type": "stream",
     "text": [
      "157"
     ]
    }
   ],
   "source": [
    "# test some things out \n",
    "\n",
    "list = d3p1_test\n",
    "mistakes = \"\"\n",
    "priority = 0\n",
    "for sack in list\n",
    "    c1, c2 = split_sack(sack)\n",
    "    overlap = find_overlap(c1,c2)\n",
    "    # mistakes *= overlap[1]           # take first item only. there should be a more robust way to do this \n",
    "    priority += get_priority(overlap[1])\n",
    "end\n",
    "\n",
    "\n",
    "print(priority)\n"
   ]
  },
  {
   "cell_type": "code",
   "execution_count": 97,
   "metadata": {},
   "outputs": [
    {
     "name": "stdout",
     "output_type": "stream",
     "text": [
      "8139"
     ]
    }
   ],
   "source": [
    "# solve d3p1\n",
    "\n",
    "list = get_list(\"day-3-input.txt\")\n",
    "priority = 0\n",
    "\n",
    "for sack in list\n",
    "    c1, c2 = split_sack(sack)\n",
    "    overlap = find_overlap(c1,c2)\n",
    "    priority += get_priority(overlap[1])\n",
    "end\n",
    "\n",
    "\n",
    "print(priority)\n",
    "    "
   ]
  },
  {
   "cell_type": "code",
   "execution_count": null,
   "metadata": {},
   "outputs": [],
   "source": []
  }
 ],
 "metadata": {
  "kernelspec": {
   "display_name": "Julia 1.5.3",
   "language": "julia",
   "name": "julia-1.5"
  },
  "language_info": {
   "file_extension": ".jl",
   "mimetype": "application/julia",
   "name": "julia",
   "version": "1.5.3"
  },
  "orig_nbformat": 4,
  "vscode": {
   "interpreter": {
    "hash": "d3c49d1e3eabae81f759221716f2dc5a0500a8cb2367424773b681726b375089"
   }
  }
 },
 "nbformat": 4,
 "nbformat_minor": 2
}
